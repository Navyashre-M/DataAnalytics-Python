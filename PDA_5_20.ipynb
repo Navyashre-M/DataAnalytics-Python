{
 "cells": [
  {
   "cell_type": "markdown",
   "id": "b41c69e8-bfb7-46d0-89cc-d3a7e04333eb",
   "metadata": {},
   "source": [
    "# Linear Regression"
   ]
  },
  {
   "cell_type": "markdown",
   "id": "7a700ddf-b14e-4590-bcde-f8b057774535",
   "metadata": {},
   "source": [
    "- y=a + bx + b1 x1 + b2 x2.........\n",
    "- y => dependent/target (1) [1D]\n",
    "- x => independent/features (n) [2D]"
   ]
  },
  {
   "cell_type": "code",
   "execution_count": 32,
   "id": "1fb0e557-98b5-48c6-88b0-7ef1a0ac6e98",
   "metadata": {},
   "outputs": [],
   "source": [
    "from sklearn.linear_model import LinearRegression\n",
    "import numpy as np\n",
    "from sklearn.metrics import r2_score,mean_absolute_error,mean_squared_error"
   ]
  },
  {
   "cell_type": "code",
   "execution_count": 21,
   "id": "7adf3a21-868c-40f9-9e65-1bcf8cb28219",
   "metadata": {},
   "outputs": [],
   "source": [
    "#independent\n",
    "time = np.array([5,7,12,16,20]).reshape(-1,1)"
   ]
  },
  {
   "cell_type": "code",
   "execution_count": 22,
   "id": "171d1fd5-5751-4215-8de1-49252aa409b6",
   "metadata": {},
   "outputs": [],
   "source": [
    "#dependent\n",
    "mass = np.array([40,120,180,210,240])"
   ]
  },
  {
   "cell_type": "code",
   "execution_count": 24,
   "id": "9fd74933-5ebf-4331-b5fc-00962e2b91e6",
   "metadata": {},
   "outputs": [
    {
     "data": {
      "text/html": [
       "<style>#sk-container-id-5 {color: black;background-color: white;}#sk-container-id-5 pre{padding: 0;}#sk-container-id-5 div.sk-toggleable {background-color: white;}#sk-container-id-5 label.sk-toggleable__label {cursor: pointer;display: block;width: 100%;margin-bottom: 0;padding: 0.3em;box-sizing: border-box;text-align: center;}#sk-container-id-5 label.sk-toggleable__label-arrow:before {content: \"▸\";float: left;margin-right: 0.25em;color: #696969;}#sk-container-id-5 label.sk-toggleable__label-arrow:hover:before {color: black;}#sk-container-id-5 div.sk-estimator:hover label.sk-toggleable__label-arrow:before {color: black;}#sk-container-id-5 div.sk-toggleable__content {max-height: 0;max-width: 0;overflow: hidden;text-align: left;background-color: #f0f8ff;}#sk-container-id-5 div.sk-toggleable__content pre {margin: 0.2em;color: black;border-radius: 0.25em;background-color: #f0f8ff;}#sk-container-id-5 input.sk-toggleable__control:checked~div.sk-toggleable__content {max-height: 200px;max-width: 100%;overflow: auto;}#sk-container-id-5 input.sk-toggleable__control:checked~label.sk-toggleable__label-arrow:before {content: \"▾\";}#sk-container-id-5 div.sk-estimator input.sk-toggleable__control:checked~label.sk-toggleable__label {background-color: #d4ebff;}#sk-container-id-5 div.sk-label input.sk-toggleable__control:checked~label.sk-toggleable__label {background-color: #d4ebff;}#sk-container-id-5 input.sk-hidden--visually {border: 0;clip: rect(1px 1px 1px 1px);clip: rect(1px, 1px, 1px, 1px);height: 1px;margin: -1px;overflow: hidden;padding: 0;position: absolute;width: 1px;}#sk-container-id-5 div.sk-estimator {font-family: monospace;background-color: #f0f8ff;border: 1px dotted black;border-radius: 0.25em;box-sizing: border-box;margin-bottom: 0.5em;}#sk-container-id-5 div.sk-estimator:hover {background-color: #d4ebff;}#sk-container-id-5 div.sk-parallel-item::after {content: \"\";width: 100%;border-bottom: 1px solid gray;flex-grow: 1;}#sk-container-id-5 div.sk-label:hover label.sk-toggleable__label {background-color: #d4ebff;}#sk-container-id-5 div.sk-serial::before {content: \"\";position: absolute;border-left: 1px solid gray;box-sizing: border-box;top: 0;bottom: 0;left: 50%;z-index: 0;}#sk-container-id-5 div.sk-serial {display: flex;flex-direction: column;align-items: center;background-color: white;padding-right: 0.2em;padding-left: 0.2em;position: relative;}#sk-container-id-5 div.sk-item {position: relative;z-index: 1;}#sk-container-id-5 div.sk-parallel {display: flex;align-items: stretch;justify-content: center;background-color: white;position: relative;}#sk-container-id-5 div.sk-item::before, #sk-container-id-5 div.sk-parallel-item::before {content: \"\";position: absolute;border-left: 1px solid gray;box-sizing: border-box;top: 0;bottom: 0;left: 50%;z-index: -1;}#sk-container-id-5 div.sk-parallel-item {display: flex;flex-direction: column;z-index: 1;position: relative;background-color: white;}#sk-container-id-5 div.sk-parallel-item:first-child::after {align-self: flex-end;width: 50%;}#sk-container-id-5 div.sk-parallel-item:last-child::after {align-self: flex-start;width: 50%;}#sk-container-id-5 div.sk-parallel-item:only-child::after {width: 0;}#sk-container-id-5 div.sk-dashed-wrapped {border: 1px dashed gray;margin: 0 0.4em 0.5em 0.4em;box-sizing: border-box;padding-bottom: 0.4em;background-color: white;}#sk-container-id-5 div.sk-label label {font-family: monospace;font-weight: bold;display: inline-block;line-height: 1.2em;}#sk-container-id-5 div.sk-label-container {text-align: center;}#sk-container-id-5 div.sk-container {/* jupyter's `normalize.less` sets `[hidden] { display: none; }` but bootstrap.min.css set `[hidden] { display: none !important; }` so we also need the `!important` here to be able to override the default hidden behavior on the sphinx rendered scikit-learn.org. See: https://github.com/scikit-learn/scikit-learn/issues/21755 */display: inline-block !important;position: relative;}#sk-container-id-5 div.sk-text-repr-fallback {display: none;}</style><div id=\"sk-container-id-5\" class=\"sk-top-container\"><div class=\"sk-text-repr-fallback\"><pre>LinearRegression()</pre><b>In a Jupyter environment, please rerun this cell to show the HTML representation or trust the notebook. <br />On GitHub, the HTML representation is unable to render, please try loading this page with nbviewer.org.</b></div><div class=\"sk-container\" hidden><div class=\"sk-item\"><div class=\"sk-estimator sk-toggleable\"><input class=\"sk-toggleable__control sk-hidden--visually\" id=\"sk-estimator-id-5\" type=\"checkbox\" checked><label for=\"sk-estimator-id-5\" class=\"sk-toggleable__label sk-toggleable__label-arrow\">LinearRegression</label><div class=\"sk-toggleable__content\"><pre>LinearRegression()</pre></div></div></div></div></div>"
      ],
      "text/plain": [
       "LinearRegression()"
      ]
     },
     "execution_count": 24,
     "metadata": {},
     "output_type": "execute_result"
    }
   ],
   "source": [
    "mymodel = LinearRegression()\n",
    "#model.fit(independent,dependent)\n",
    "mymodel.fit(time,mass)"
   ]
  },
  {
   "cell_type": "code",
   "execution_count": 26,
   "id": "185b93b5-1097-4564-b4d3-aea2e6e27df0",
   "metadata": {},
   "outputs": [
    {
     "name": "stdin",
     "output_type": "stream",
     "text": [
      "Enter the time in minutes : 13\n"
     ]
    },
    {
     "name": "stdout",
     "output_type": "stream",
     "text": [
      "If the time is  13 minutes the mass is  170.2077922077922  grams\n"
     ]
    }
   ],
   "source": [
    "x = int(input(\"Enter the time in minutes :\"))\n",
    "result = mymodel.predict([[x]])  #passsing independent variable(time in 2D)\n",
    "print(\"If the time is \",x,\"minutes the mass is \",result[0], \" grams\")"
   ]
  },
  {
   "cell_type": "code",
   "execution_count": 27,
   "id": "0808bfc1-1b13-4339-a1e7-cafe2d0f0267",
   "metadata": {},
   "outputs": [
    {
     "name": "stdout",
     "output_type": "stream",
     "text": [
      "[ 72.54545455  96.96103896 158.         206.83116883 255.66233766]\n"
     ]
    }
   ],
   "source": [
    "mass_model = mymodel.predict(time)\n",
    "print(mass_model)"
   ]
  },
  {
   "cell_type": "code",
   "execution_count": 30,
   "id": "f8b4971c-d1b3-464a-a035-bc9f8b3bbc2a",
   "metadata": {},
   "outputs": [
    {
     "data": {
      "image/png": "[encoded data removed]",
      "text/plain": [
       "<Figure size 600x500 with 1 Axes>"
      ]
     },
     "metadata": {},
     "output_type": "display_data"
    }
   ],
   "source": [
    "#plotting original values - scatter\n",
    "import matplotlib.pyplot as plt\n",
    "plt.figure(figsize=(6,5))\n",
    "plt.scatter(time,mass,label=\"Original\",color=\"hotpink\")\n",
    "#plotting mode valuea - Line\n",
    "plt.plot(time,mass_model,label=\"Predicted - Linear\",color='k')\n",
    "plt.legend()\n",
    "plt.show()"
   ]
  },
  {
   "cell_type": "markdown",
   "id": "cbf81cf7-5cf2-4651-9622-33abf77fcece",
   "metadata": {},
   "source": [
    "Evalution"
   ]
  },
  {
   "cell_type": "markdown",
   "id": "621aab68-f663-4cba-842d-19a2cbd2071a",
   "metadata": {},
   "source": [
    "R-Square\n",
    " - Larger is better."
   ]
  },
  {
   "cell_type": "code",
   "execution_count": 33,
   "id": "d98131ea-0e77-44f6-8355-9ff4bc385914",
   "metadata": {},
   "outputs": [
    {
     "name": "stdout",
     "output_type": "stream",
     "text": [
      "-816.6925282509699\n"
     ]
    }
   ],
   "source": [
    "r2score=r2_score(time,mass_model)\n",
    "print(r2score)"
   ]
  },
  {
   "cell_type": "markdown",
   "id": "a4534586-8199-44e0-9cb5-60ce5fcb2dff",
   "metadata": {},
   "source": [
    "Mean Squared Error [MSE]\n",
    "- Lower is better."
   ]
  },
  {
   "cell_type": "code",
   "execution_count": 35,
   "id": "08739ebc-c7b0-40ce-a161-0879345d8330",
   "metadata": {},
   "outputs": [
    {
     "name": "stdout",
     "output_type": "stream",
     "text": [
      "25184.929870129872\n"
     ]
    }
   ],
   "source": [
    "mse=mean_squared_error(time,mass_model)\n",
    "print(mse)"
   ]
  },
  {
   "cell_type": "markdown",
   "id": "598aa3e3-c4fc-4a73-b310-2aca2b2cc225",
   "metadata": {},
   "source": [
    "Mean Abosulte Error\n",
    "- Lower is better."
   ]
  },
  {
   "cell_type": "code",
   "execution_count": 36,
   "id": "14708137-728b-453c-bbfb-e710973aa2e2",
   "metadata": {},
   "outputs": [
    {
     "name": "stdout",
     "output_type": "stream",
     "text": [
      "146.0\n"
     ]
    }
   ],
   "source": [
    "mas=mean_absolute_error(time,mass_model)\n",
    "print(mas)"
   ]
  },
  {
   "cell_type": "markdown",
   "id": "e0407ec6-e0f4-4eef-8768-e4b44454a00d",
   "metadata": {},
   "source": [
    "Linear Regresssion on Large Data"
   ]
  },
  {
   "cell_type": "markdown",
   "id": "5bf91536-8714-4921-a1ff-ccf76029f362",
   "metadata": {},
   "source": [
    "Case : Predicting the salary from age,experience,gender,education"
   ]
  },
  {
   "cell_type": "markdown",
   "id": "5ae9bb52-e02e-4d3d-b7b3-1073541e7f6d",
   "metadata": {},
   "source": [
    "1.Import libraries\n",
    "2.Load Data\n",
    "3.Split Data\n",
    "4.Create and Train Model\n",
    "5. Test the model\n",
    "6.Evalution"
   ]
  },
  {
   "cell_type": "markdown",
   "id": "af384d34-c98c-48ef-bf05-cda7c13fcc51",
   "metadata": {},
   "source": [
    "1.Importing Libraries"
   ]
  },
  {
   "cell_type": "code",
   "execution_count": 60,
   "id": "8ab575e2-b6bb-49dd-a6a8-96e3b7b1b68c",
   "metadata": {},
   "outputs": [],
   "source": [
    "import pandas as pd\n",
    "import numpy as np\n",
    "from sklearn.linear_model import LinearRegression\n",
    "from sklearn.metrics import r2_score,mean_absolute_error,mean_squared_error\n",
    "import matplotlib.pyplot as plt\n",
    "from  sklearn.model_selection import train_test_split\n",
    "from sklearn.preprocessing import LabelEncoder"
   ]
  },
  {
   "cell_type": "markdown",
   "id": "2a7f80e6-7b5b-4d34-a399-f3f01a39a550",
   "metadata": {},
   "source": [
    "2.Data Loading"
   ]
  },
  {
   "cell_type": "code",
   "execution_count": 64,
   "id": "ec30136d-e9b5-43ec-9d4c-1c00846b6c46",
   "metadata": {},
   "outputs": [
    {
     "data": {
      "text/html": [
       "<div>\n",
       "<style scoped>\n",
       "    .dataframe tbody tr th:only-of-type {\n",
       "        vertical-align: middle;\n",
       "    }\n",
       "\n",
       "    .dataframe tbody tr th {\n",
       "        vertical-align: top;\n",
       "    }\n",
       "\n",
       "    .dataframe thead th {\n",
       "        text-align: right;\n",
       "    }\n",
       "</style>\n",
       "<table border=\"1\" class=\"dataframe\">\n",
       "  <thead>\n",
       "    <tr style=\"text-align: right;\">\n",
       "      <th></th>\n",
       "      <th>Age</th>\n",
       "      <th>Gender</th>\n",
       "      <th>Education Level</th>\n",
       "      <th>Job Title</th>\n",
       "      <th>Years of Experience</th>\n",
       "      <th>Salary</th>\n",
       "    </tr>\n",
       "  </thead>\n",
       "  <tbody>\n",
       "    <tr>\n",
       "      <th>0</th>\n",
       "      <td>32.0</td>\n",
       "      <td>Male</td>\n",
       "      <td>Bachelor's</td>\n",
       "      <td>Software Engineer</td>\n",
       "      <td>5.0</td>\n",
       "      <td>90000.0</td>\n",
       "    </tr>\n",
       "    <tr>\n",
       "      <th>1</th>\n",
       "      <td>28.0</td>\n",
       "      <td>Female</td>\n",
       "      <td>Master's</td>\n",
       "      <td>Data Analyst</td>\n",
       "      <td>3.0</td>\n",
       "      <td>65000.0</td>\n",
       "    </tr>\n",
       "    <tr>\n",
       "      <th>2</th>\n",
       "      <td>45.0</td>\n",
       "      <td>Male</td>\n",
       "      <td>PhD</td>\n",
       "      <td>Senior Manager</td>\n",
       "      <td>15.0</td>\n",
       "      <td>150000.0</td>\n",
       "    </tr>\n",
       "    <tr>\n",
       "      <th>3</th>\n",
       "      <td>36.0</td>\n",
       "      <td>Female</td>\n",
       "      <td>Bachelor's</td>\n",
       "      <td>Sales Associate</td>\n",
       "      <td>7.0</td>\n",
       "      <td>60000.0</td>\n",
       "    </tr>\n",
       "    <tr>\n",
       "      <th>4</th>\n",
       "      <td>36.0</td>\n",
       "      <td>Female</td>\n",
       "      <td>Bachelor's</td>\n",
       "      <td>Sales Associate</td>\n",
       "      <td>7.0</td>\n",
       "      <td>60000.0</td>\n",
       "    </tr>\n",
       "  </tbody>\n",
       "</table>\n",
       "</div>"
      ],
      "text/plain": [
       "    Age  Gender Education Level          Job Title  Years of Experience  \\\n",
       "0  32.0    Male      Bachelor's  Software Engineer                  5.0   \n",
       "1  28.0  Female        Master's       Data Analyst                  3.0   \n",
       "2  45.0    Male             PhD     Senior Manager                 15.0   \n",
       "3  36.0  Female      Bachelor's    Sales Associate                  7.0   \n",
       "4  36.0  Female      Bachelor's    Sales Associate                  7.0   \n",
       "\n",
       "     Salary  \n",
       "0   90000.0  \n",
       "1   65000.0  \n",
       "2  150000.0  \n",
       "3   60000.0  \n",
       "4   60000.0  "
      ]
     },
     "execution_count": 64,
     "metadata": {},
     "output_type": "execute_result"
    }
   ],
   "source": [
    "data=pd.read_csv(r\"C:\\My python Files\\Salary_EDA.csv\")\n",
    "data.head()"
   ]
  },
  {
   "cell_type": "markdown",
   "id": "1ef12b69-2331-45b1-ae2f-74304834fe4d",
   "metadata": {},
   "source": [
    "Clean Data"
   ]
  },
  {
   "cell_type": "code",
   "execution_count": 66,
   "id": "a5c04c61-63cb-4c16-9cd6-b00ce9e117e7",
   "metadata": {},
   "outputs": [
    {
     "data": {
      "text/plain": [
       "Age                    2\n",
       "Gender                 4\n",
       "Education Level        3\n",
       "Job Title              5\n",
       "Years of Experience    2\n",
       "Salary                 3\n",
       "dtype: int64"
      ]
     },
     "execution_count": 66,
     "metadata": {},
     "output_type": "execute_result"
    }
   ],
   "source": [
    "data.isnull().sum()"
   ]
  },
  {
   "cell_type": "markdown",
   "id": "65cff2ce-83fe-4018-bdac-66a56610ac36",
   "metadata": {},
   "source": [
    "Data Preprocessing"
   ]
  },
  {
   "cell_type": "code",
   "execution_count": 67,
   "id": "baa32ba0-329d-4235-925d-82756dc3fbc6",
   "metadata": {},
   "outputs": [],
   "source": [
    "data.dropna(inplace=True)"
   ]
  },
  {
   "cell_type": "code",
   "execution_count": 68,
   "id": "1e45c320-a6ce-4c82-8d95-ca726c1612a9",
   "metadata": {},
   "outputs": [
    {
     "data": {
      "text/plain": [
       "Age                    0\n",
       "Gender                 0\n",
       "Education Level        0\n",
       "Job Title              0\n",
       "Years of Experience    0\n",
       "Salary                 0\n",
       "dtype: int64"
      ]
     },
     "execution_count": 68,
     "metadata": {},
     "output_type": "execute_result"
    }
   ],
   "source": [
    "data.isnull().sum()"
   ]
  },
  {
   "cell_type": "markdown",
   "id": "6225e200-03a1-424c-9d18-463c6d296dec",
   "metadata": {},
   "source": [
    " Encode the Data"
   ]
  },
  {
   "cell_type": "code",
   "execution_count": 69,
   "id": "0c9eed24-5439-40bf-ae95-cb21d196ef41",
   "metadata": {},
   "outputs": [],
   "source": [
    "le=LabelEncoder()\n",
    "data['Gender_Encoded']=le.fit_transform(data['Gender'])\n",
    "le1=LabelEncoder()\n",
    "data['Edu_Level_Encoded']=le1.fit_transform(data['Education Level'])"
   ]
  },
  {
   "cell_type": "code",
   "execution_count": 70,
   "id": "edd03f15-d000-4f2b-8a26-60fc95e45d8e",
   "metadata": {},
   "outputs": [
    {
     "data": {
      "text/html": [
       "<div>\n",
       "<style scoped>\n",
       "    .dataframe tbody tr th:only-of-type {\n",
       "        vertical-align: middle;\n",
       "    }\n",
       "\n",
       "    .dataframe tbody tr th {\n",
       "        vertical-align: top;\n",
       "    }\n",
       "\n",
       "    .dataframe thead th {\n",
       "        text-align: right;\n",
       "    }\n",
       "</style>\n",
       "<table border=\"1\" class=\"dataframe\">\n",
       "  <thead>\n",
       "    <tr style=\"text-align: right;\">\n",
       "      <th></th>\n",
       "      <th>Age</th>\n",
       "      <th>Gender</th>\n",
       "      <th>Education Level</th>\n",
       "      <th>Job Title</th>\n",
       "      <th>Years of Experience</th>\n",
       "      <th>Salary</th>\n",
       "      <th>Gender_Encoded</th>\n",
       "      <th>Edu_Level_Encoded</th>\n",
       "    </tr>\n",
       "  </thead>\n",
       "  <tbody>\n",
       "    <tr>\n",
       "      <th>0</th>\n",
       "      <td>32.0</td>\n",
       "      <td>Male</td>\n",
       "      <td>Bachelor's</td>\n",
       "      <td>Software Engineer</td>\n",
       "      <td>5.0</td>\n",
       "      <td>90000.0</td>\n",
       "      <td>1</td>\n",
       "      <td>0</td>\n",
       "    </tr>\n",
       "    <tr>\n",
       "      <th>1</th>\n",
       "      <td>28.0</td>\n",
       "      <td>Female</td>\n",
       "      <td>Master's</td>\n",
       "      <td>Data Analyst</td>\n",
       "      <td>3.0</td>\n",
       "      <td>65000.0</td>\n",
       "      <td>0</td>\n",
       "      <td>1</td>\n",
       "    </tr>\n",
       "    <tr>\n",
       "      <th>2</th>\n",
       "      <td>45.0</td>\n",
       "      <td>Male</td>\n",
       "      <td>PhD</td>\n",
       "      <td>Senior Manager</td>\n",
       "      <td>15.0</td>\n",
       "      <td>150000.0</td>\n",
       "      <td>1</td>\n",
       "      <td>2</td>\n",
       "    </tr>\n",
       "    <tr>\n",
       "      <th>3</th>\n",
       "      <td>36.0</td>\n",
       "      <td>Female</td>\n",
       "      <td>Bachelor's</td>\n",
       "      <td>Sales Associate</td>\n",
       "      <td>7.0</td>\n",
       "      <td>60000.0</td>\n",
       "      <td>0</td>\n",
       "      <td>0</td>\n",
       "    </tr>\n",
       "    <tr>\n",
       "      <th>4</th>\n",
       "      <td>36.0</td>\n",
       "      <td>Female</td>\n",
       "      <td>Bachelor's</td>\n",
       "      <td>Sales Associate</td>\n",
       "      <td>7.0</td>\n",
       "      <td>60000.0</td>\n",
       "      <td>0</td>\n",
       "      <td>0</td>\n",
       "    </tr>\n",
       "  </tbody>\n",
       "</table>\n",
       "</div>"
      ],
      "text/plain": [
       "    Age  Gender Education Level          Job Title  Years of Experience  \\\n",
       "0  32.0    Male      Bachelor's  Software Engineer                  5.0   \n",
       "1  28.0  Female        Master's       Data Analyst                  3.0   \n",
       "2  45.0    Male             PhD     Senior Manager                 15.0   \n",
       "3  36.0  Female      Bachelor's    Sales Associate                  7.0   \n",
       "4  36.0  Female      Bachelor's    Sales Associate                  7.0   \n",
       "\n",
       "     Salary  Gender_Encoded  Edu_Level_Encoded  \n",
       "0   90000.0               1                  0  \n",
       "1   65000.0               0                  1  \n",
       "2  150000.0               1                  2  \n",
       "3   60000.0               0                  0  \n",
       "4   60000.0               0                  0  "
      ]
     },
     "execution_count": 70,
     "metadata": {},
     "output_type": "execute_result"
    }
   ],
   "source": [
    "data.head()"
   ]
  },
  {
   "cell_type": "markdown",
   "id": "10d3a804-cd4b-4777-b687-8afca24f984c",
   "metadata": {},
   "source": [
    "3.Split Data"
   ]
  },
  {
   "cell_type": "markdown",
   "id": "43d8bb0b-fe82-4cc4-a5a1-4c95e425fcfa",
   "metadata": {},
   "source": [
    "Split - independent , Dependent"
   ]
  },
  {
   "cell_type": "code",
   "execution_count": 71,
   "id": "d6d2e489-2196-4f6d-9b86-6845e7b9f93f",
   "metadata": {},
   "outputs": [],
   "source": [
    "X = data[['Age','Gender_Encoded','Edu_Level_Encoded','Years of Experience']]\n",
    "Y = data['Salary']"
   ]
  },
  {
   "cell_type": "code",
   "execution_count": 72,
   "id": "0dfd2298-eb99-436a-8821-7377448042fb",
   "metadata": {},
   "outputs": [],
   "source": [
    "X_train,X_test,Y_train,Y_test = train_test_split(X,Y,test_size=0.2,random_state=42)\n",
    "#total 700 records\n",
    "#X_train- 560(age,gender,Education,experience)\n",
    "#X_test- 140(age,gender,Eduction,experience)\n",
    "#Y_train- 560(Salary)\n",
    "#Y_test- 140(Salary)"
   ]
  },
  {
   "cell_type": "markdown",
   "id": "f95ddd14-20c1-439b-8b7d-3880accee0b4",
   "metadata": {},
   "source": [
    "4.Create and train Model"
   ]
  },
  {
   "cell_type": "code",
   "execution_count": 74,
   "id": "75f8760f-4455-480e-a73e-5c0e18b64aa8",
   "metadata": {},
   "outputs": [
    {
     "data": {
      "text/html": [
       "<style>#sk-container-id-6 {color: black;background-color: white;}#sk-container-id-6 pre{padding: 0;}#sk-container-id-6 div.sk-toggleable {background-color: white;}#sk-container-id-6 label.sk-toggleable__label {cursor: pointer;display: block;width: 100%;margin-bottom: 0;padding: 0.3em;box-sizing: border-box;text-align: center;}#sk-container-id-6 label.sk-toggleable__label-arrow:before {content: \"▸\";float: left;margin-right: 0.25em;color: #696969;}#sk-container-id-6 label.sk-toggleable__label-arrow:hover:before {color: black;}#sk-container-id-6 div.sk-estimator:hover label.sk-toggleable__label-arrow:before {color: black;}#sk-container-id-6 div.sk-toggleable__content {max-height: 0;max-width: 0;overflow: hidden;text-align: left;background-color: #f0f8ff;}#sk-container-id-6 div.sk-toggleable__content pre {margin: 0.2em;color: black;border-radius: 0.25em;background-color: #f0f8ff;}#sk-container-id-6 input.sk-toggleable__control:checked~div.sk-toggleable__content {max-height: 200px;max-width: 100%;overflow: auto;}#sk-container-id-6 input.sk-toggleable__control:checked~label.sk-toggleable__label-arrow:before {content: \"▾\";}#sk-container-id-6 div.sk-estimator input.sk-toggleable__control:checked~label.sk-toggleable__label {background-color: #d4ebff;}#sk-container-id-6 div.sk-label input.sk-toggleable__control:checked~label.sk-toggleable__label {background-color: #d4ebff;}#sk-container-id-6 input.sk-hidden--visually {border: 0;clip: rect(1px 1px 1px 1px);clip: rect(1px, 1px, 1px, 1px);height: 1px;margin: -1px;overflow: hidden;padding: 0;position: absolute;width: 1px;}#sk-container-id-6 div.sk-estimator {font-family: monospace;background-color: #f0f8ff;border: 1px dotted black;border-radius: 0.25em;box-sizing: border-box;margin-bottom: 0.5em;}#sk-container-id-6 div.sk-estimator:hover {background-color: #d4ebff;}#sk-container-id-6 div.sk-parallel-item::after {content: \"\";width: 100%;border-bottom: 1px solid gray;flex-grow: 1;}#sk-container-id-6 div.sk-label:hover label.sk-toggleable__label {background-color: #d4ebff;}#sk-container-id-6 div.sk-serial::before {content: \"\";position: absolute;border-left: 1px solid gray;box-sizing: border-box;top: 0;bottom: 0;left: 50%;z-index: 0;}#sk-container-id-6 div.sk-serial {display: flex;flex-direction: column;align-items: center;background-color: white;padding-right: 0.2em;padding-left: 0.2em;position: relative;}#sk-container-id-6 div.sk-item {position: relative;z-index: 1;}#sk-container-id-6 div.sk-parallel {display: flex;align-items: stretch;justify-content: center;background-color: white;position: relative;}#sk-container-id-6 div.sk-item::before, #sk-container-id-6 div.sk-parallel-item::before {content: \"\";position: absolute;border-left: 1px solid gray;box-sizing: border-box;top: 0;bottom: 0;left: 50%;z-index: -1;}#sk-container-id-6 div.sk-parallel-item {display: flex;flex-direction: column;z-index: 1;position: relative;background-color: white;}#sk-container-id-6 div.sk-parallel-item:first-child::after {align-self: flex-end;width: 50%;}#sk-container-id-6 div.sk-parallel-item:last-child::after {align-self: flex-start;width: 50%;}#sk-container-id-6 div.sk-parallel-item:only-child::after {width: 0;}#sk-container-id-6 div.sk-dashed-wrapped {border: 1px dashed gray;margin: 0 0.4em 0.5em 0.4em;box-sizing: border-box;padding-bottom: 0.4em;background-color: white;}#sk-container-id-6 div.sk-label label {font-family: monospace;font-weight: bold;display: inline-block;line-height: 1.2em;}#sk-container-id-6 div.sk-label-container {text-align: center;}#sk-container-id-6 div.sk-container {/* jupyter's `normalize.less` sets `[hidden] { display: none; }` but bootstrap.min.css set `[hidden] { display: none !important; }` so we also need the `!important` here to be able to override the default hidden behavior on the sphinx rendered scikit-learn.org. See: https://github.com/scikit-learn/scikit-learn/issues/21755 */display: inline-block !important;position: relative;}#sk-container-id-6 div.sk-text-repr-fallback {display: none;}</style><div id=\"sk-container-id-6\" class=\"sk-top-container\"><div class=\"sk-text-repr-fallback\"><pre>LinearRegression()</pre><b>In a Jupyter environment, please rerun this cell to show the HTML representation or trust the notebook. <br />On GitHub, the HTML representation is unable to render, please try loading this page with nbviewer.org.</b></div><div class=\"sk-container\" hidden><div class=\"sk-item\"><div class=\"sk-estimator sk-toggleable\"><input class=\"sk-toggleable__control sk-hidden--visually\" id=\"sk-estimator-id-6\" type=\"checkbox\" checked><label for=\"sk-estimator-id-6\" class=\"sk-toggleable__label sk-toggleable__label-arrow\">LinearRegression</label><div class=\"sk-toggleable__content\"><pre>LinearRegression()</pre></div></div></div></div></div>"
      ],
      "text/plain": [
       "LinearRegression()"
      ]
     },
     "execution_count": 74,
     "metadata": {},
     "output_type": "execute_result"
    }
   ],
   "source": [
    "sal_model=LinearRegression()\n",
    "sal_model.fit(X_train,Y_train)"
   ]
  },
  {
   "cell_type": "markdown",
   "id": "ff4fc1ee-3f31-48cc-8a5f-a0004137ba1b",
   "metadata": {},
   "source": [
    "5. Test"
   ]
  },
  {
   "cell_type": "code",
   "execution_count": 81,
   "id": "7e7caa89-d720-460e-bd40-4f73cb497d56",
   "metadata": {},
   "outputs": [
    {
     "name": "stdin",
     "output_type": "stream",
     "text": [
      "Enter your age:  32\n",
      "Enter your Gender:  Male\n",
      "Enter your Education level:  PhD\n",
      "Enter your experience in year:  7\n"
     ]
    }
   ],
   "source": [
    "a=float(input(\"Enter your age: \"))\n",
    "g_user=input(\"Enter your Gender: \")\n",
    "ed_user=input(\"Enter your Education level: \")\n",
    "Exp=float(input(\"Enter your experience in year: \"))"
   ]
  },
  {
   "cell_type": "code",
   "execution_count": 82,
   "id": "4860fb3d-894b-4cf6-ab0c-9f08eb775d4c",
   "metadata": {},
   "outputs": [
    {
     "name": "stdout",
     "output_type": "stream",
     "text": [
      "1 2\n"
     ]
    }
   ],
   "source": [
    "gen_en=le.transform([g_user])[0]\n",
    "edu_en=le1.transform([ed_user])[0]\n",
    "print(gen_en,edu_en)"
   ]
  },
  {
   "cell_type": "code",
   "execution_count": 83,
   "id": "c38964c2-08cf-4860-aa67-66e40f655b40",
   "metadata": {},
   "outputs": [
    {
     "name": "stdout",
     "output_type": "stream",
     "text": [
      "The predicted Salary is:  98872.0492018653\n"
     ]
    },
    {
     "name": "stderr",
     "output_type": "stream",
     "text": [
      "C:\\Users\\DELL\\anaconda3\\Lib\\site-packages\\sklearn\\base.py:439: UserWarning: X does not have valid feature names, but LinearRegression was fitted with feature names\n",
      "  warnings.warn(\n"
     ]
    }
   ],
   "source": [
    "result = sal_model.predict([[a,gen_en,edu_en,Exp]])\n",
    "print(\"The predicted Salary is: \",result[0])"
   ]
  },
  {
   "cell_type": "markdown",
   "id": "3f7bbcac-00cb-4ccd-b81b-7b6a19746c06",
   "metadata": {},
   "source": [
    "6.Evalution\n",
    " 1.Predict test values\n",
    " 2.Visualize\n",
    " 3.Metrices"
   ]
  },
  {
   "cell_type": "code",
   "execution_count": 90,
   "id": "7c7efb56-2328-461a-83a8-fc6e9ac47a03",
   "metadata": {},
   "outputs": [],
   "source": [
    "model_prediction=sal_model.predict(X_test)"
   ]
  },
  {
   "cell_type": "markdown",
   "id": "608daca5-8826-4a8a-a31e-fbaf3747b78d",
   "metadata": {},
   "source": [
    "2.Vistualize"
   ]
  },
  {
   "cell_type": "code",
   "execution_count": 91,
   "id": "f61b147c-fa58-4082-af88-25fdd0f92817",
   "metadata": {},
   "outputs": [
    {
     "data": {
      "text/plain": [
       "74"
      ]
     },
     "execution_count": 91,
     "metadata": {},
     "output_type": "execute_result"
    }
   ],
   "source": [
    "len(Y_test)"
   ]
  },
  {
   "cell_type": "code",
   "execution_count": 93,
   "id": "75564409-a262-4cb2-ae21-a1703134e2d7",
   "metadata": {},
   "outputs": [
    {
     "data": {
      "image/png": "[encoded data removed]",
      "text/plain": [
       "<Figure size 640x480 with 1 Axes>"
      ]
     },
     "metadata": {},
     "output_type": "display_data"
    }
   ],
   "source": [
    "plt.plot(np.arange(1,75),Y_test,color='hotpink',label=\"Original\")\n",
    "plt.plot(np.arange(1,75),model_prediction,color=\"green\",label=\"Model prediction\")\n",
    "plt.title(\"Original Vs Model\")\n",
    "plt.legend()\n",
    "plt.show()"
   ]
  },
  {
   "cell_type": "markdown",
   "id": "01395101-eac4-45b8-9c02-f20116c65b87",
   "metadata": {},
   "source": [
    "3.Metrices"
   ]
  },
  {
   "cell_type": "code",
   "execution_count": 96,
   "id": "b56bd7d3-7136-41d9-85cc-4fd6befe3ffa",
   "metadata": {},
   "outputs": [
    {
     "name": "stdout",
     "output_type": "stream",
     "text": [
      "0.908465830252362\n",
      "Model is good fit\n"
     ]
    }
   ],
   "source": [
    "r2score=r2_score(Y_test,model_prediction)\n",
    "print(r2score)\n",
    "if r2score>0.5:\n",
    "    print(\"Model is good fit\")\n",
    "else:\n",
    "    print(\"Model is not good fit\")"
   ]
  },
  {
   "cell_type": "code",
   "execution_count": 98,
   "id": "0d264adc-7551-40fe-b126-e0941dd2da86",
   "metadata": {},
   "outputs": [
    {
     "name": "stdout",
     "output_type": "stream",
     "text": [
      "11362.212304880708\n"
     ]
    }
   ],
   "source": [
    "mae=mean_absolute_error(Y_test,model_prediction)\n",
    "print(mae)"
   ]
  },
  {
   "cell_type": "code",
   "execution_count": 99,
   "id": "90470e03-5fe5-4ea2-9c58-819d36cc3ed1",
   "metadata": {},
   "outputs": [
    {
     "name": "stdout",
     "output_type": "stream",
     "text": [
      "235720545.72027326\n"
     ]
    }
   ],
   "source": [
    "mse=mean_squared_error(Y_test,model_prediction)\n",
    "print(mse)"
   ]
  },
  {
   "cell_type": "code",
   "execution_count": null,
   "id": "4dc1b281-7d0e-478c-b114-11a49ca70989",
   "metadata": {},
   "outputs": [],
   "source": []
  }
 ],
 "metadata": {
  "kernelspec": {
   "display_name": "Python 3 (ipykernel)",
   "language": "python",
   "name": "python3"
  },
  "language_info": {
   "codemirror_mode": {
    "name": "ipython",
    "version": 3
   },
   "file_extension": ".py",
   "mimetype": "text/x-python",
   "name": "python",
   "nbconvert_exporter": "python",
   "pygments_lexer": "ipython3",
   "version": "3.11.7"
  }
 },
 "nbformat": 4,
 "nbformat_minor": 5
}
